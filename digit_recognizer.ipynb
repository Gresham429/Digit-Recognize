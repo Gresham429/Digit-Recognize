{
 "cells": [
  {
   "cell_type": "markdown",
   "metadata": {},
   "source": [
    "# Digit Recognizer"
   ]
  },
  {
   "cell_type": "markdown",
   "metadata": {},
   "source": [
    "### 数据预处理"
   ]
  },
  {
   "cell_type": "code",
   "execution_count": 1,
   "metadata": {},
   "outputs": [
    {
     "name": "stdout",
     "output_type": "stream",
     "text": [
      "Preprocessing data...\n"
     ]
    }
   ],
   "source": [
    "import preprocess.preprocess as p\n",
    "\n",
    "file_path = \"data/raw/train.csv\"\n",
    "output_path = \"data/processed/train.csv\"\n",
    "label_names=[\"label\"]\n",
    "\n",
    "print(\"Preprocessing data...\")\n",
    "preprocesser = p.Preprocesser(\"data/raw/train.csv\")\n",
    "\n",
    "# 预处理\n",
    "preprocesser.remove_duplicates()\n",
    "preprocesser.remove_null_values()\n",
    "\n",
    "# 输出\n",
    "# preprocesser.save(output_path)\n",
    "labels, features = preprocesser.split_features_labels(label_names=label_names)\n"
   ]
  },
  {
   "cell_type": "code",
   "execution_count": 2,
   "metadata": {},
   "outputs": [],
   "source": [
    "import numpy as np\n",
    "\n",
    "labels = np.asarray(labels).T\n",
    "features = features.to_numpy()\n",
    "\n",
    "# # 将 features 恢复成灰度图像（1 * 28 * 28）\n",
    "# features = np.expand_dims(features.reshape(-1, 28, 28), axis=1)\n",
    "# print(features.shape)"
   ]
  },
  {
   "cell_type": "markdown",
   "metadata": {},
   "source": [
    "### MLP"
   ]
  },
  {
   "cell_type": "code",
   "execution_count": 3,
   "metadata": {},
   "outputs": [
    {
     "name": "stdout",
     "output_type": "stream",
     "text": [
      "Building multi-layer perception model...\n",
      "\tFully connected layer with input 784, output 256.\n",
      "\tReLU layer.\n",
      "\tFully connected layer with input 256, output 128.\n",
      "\tReLU layer.\n",
      "\tFully connected layer with input 128, output 64.\n",
      "\tReLU layer.\n",
      "\tFully connected layer with input 64, output 10.\n",
      "\tSoftmax loss layer.\n",
      "Initializing parameters of each layer in MLP...\n",
      "Start training...\n",
      "Epoch 1: Loss = 0.5500491293893733, Accuracy = 0.8177857142857143\n",
      "Epoch 2: Loss = 0.1365406316754557, Accuracy = 0.9588571428571429\n",
      "Epoch 3: Loss = 0.09006378231604983, Accuracy = 0.9714285714285714\n",
      "Epoch 4: Loss = 0.06553870004610042, Accuracy = 0.979904761904762\n",
      "Epoch 5: Loss = 0.04936300790821441, Accuracy = 0.9841904761904762\n",
      "Epoch 6: Loss = 0.03760306614728395, Accuracy = 0.9875\n",
      "Epoch 7: Loss = 0.028188651207442576, Accuracy = 0.9915\n",
      "Epoch 8: Loss = 0.025372998271101264, Accuracy = 0.9913095238095239\n",
      "Epoch 9: Loss = 0.017556713840685054, Accuracy = 0.9944047619047619\n",
      "Epoch 10: Loss = 0.015893725488918854, Accuracy = 0.9947142857142857\n"
     ]
    }
   ],
   "source": [
    "from model.MLP import MLP\n",
    "\n",
    "model = MLP(batch_size=42, max_epoch=10)\n",
    "model.build_model()\n",
    "model.init_model()\n",
    "model.train(features, labels)"
   ]
  },
  {
   "cell_type": "markdown",
   "metadata": {},
   "source": [
    "### 模型测试"
   ]
  },
  {
   "cell_type": "code",
   "execution_count": 4,
   "metadata": {},
   "outputs": [],
   "source": [
    "import pandas as pd\n",
    "\n",
    "test_features = pd.read_csv(\"data/raw/test.csv\")\n",
    "\n",
    "test_features = test_features.to_numpy()\n",
    "\n",
    "test_labels = model.evaluate(test_features)"
   ]
  },
  {
   "cell_type": "code",
   "execution_count": 5,
   "metadata": {},
   "outputs": [
    {
     "name": "stdout",
     "output_type": "stream",
     "text": [
      "(28000,)\n"
     ]
    }
   ],
   "source": [
    "print(test_labels.shape)"
   ]
  },
  {
   "cell_type": "code",
   "execution_count": 9,
   "metadata": {},
   "outputs": [],
   "source": [
    "# 保存成csv文件，（ImageId，Label）\n",
    "df = pd.DataFrame(test_labels.astype(int), columns=[\"Label\"])\n",
    "df.index += 1\n",
    "df.index.name = \"ImageId\"\n",
    "df.to_csv(\"data/processed/test.csv\")"
   ]
  },
  {
   "cell_type": "code",
   "execution_count": null,
   "metadata": {},
   "outputs": [],
   "source": []
  }
 ],
 "metadata": {
  "kernelspec": {
   "display_name": "digit_recognize",
   "language": "python",
   "name": "python3"
  },
  "language_info": {
   "codemirror_mode": {
    "name": "ipython",
    "version": 3
   },
   "file_extension": ".py",
   "mimetype": "text/x-python",
   "name": "python",
   "nbconvert_exporter": "python",
   "pygments_lexer": "ipython3",
   "version": "3.11.9"
  }
 },
 "nbformat": 4,
 "nbformat_minor": 2
}
